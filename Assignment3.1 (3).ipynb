{
 "cells": [
  {
   "cell_type": "markdown",
   "id": "2522d4e0-65ea-42b5-aa50-d3d120910ee8",
   "metadata": {},
   "source": [
    "Q1. Which keyword is used to create a function? Create a function to return a list of odd numbers in the\n",
    "range of 1 to 25."
   ]
  },
  {
   "cell_type": "markdown",
   "id": "c6696770-987a-4478-805a-3c8dac792d95",
   "metadata": {},
   "source": [
    "ANS :  def keyword is used to create a function. "
   ]
  },
  {
   "cell_type": "code",
   "execution_count": 28,
   "id": "bc525938-9be2-4a43-9d6f-14a2d63457b6",
   "metadata": {},
   "outputs": [],
   "source": [
    "#function to return a list of odd numbers in the range of 1 to 25\n",
    "def odd_num():\n",
    "    l=[]\n",
    "    for i in range(1,26):\n",
    "        if(i%2 != 0):\n",
    "            l.append(i)\n",
    "    print(l)"
   ]
  },
  {
   "cell_type": "code",
   "execution_count": 29,
   "id": "911cb800-3e94-4098-ac98-7e686724a57c",
   "metadata": {},
   "outputs": [
    {
     "name": "stdout",
     "output_type": "stream",
     "text": [
      "[1, 3, 5, 7, 9, 11, 13, 15, 17, 19, 21, 23, 25]\n"
     ]
    }
   ],
   "source": [
    "odd_num() #output"
   ]
  },
  {
   "cell_type": "markdown",
   "id": "3c02b47e-f3ea-4087-9dc1-b9aa4f95e807",
   "metadata": {},
   "source": [
    "Q2. Why *args and **kwargs is used in some functions? Create a function each for *args and **kwargs\n",
    "to demonstrate their use."
   ]
  },
  {
   "cell_type": "markdown",
   "id": "946199ac-3394-461a-8af0-6b710e579a68",
   "metadata": {},
   "source": [
    "*args and **kwargs are basically used as argument of function when we are unsure the number of arguments need to be passed \n",
    "in a function. \n",
    "\n",
    "Function with *args :\n",
    "Here *args takes data of any type and takes the value in the form of tuple"
   ]
  },
  {
   "cell_type": "code",
   "execution_count": 30,
   "id": "8bc27348-4b8c-440d-9b04-612dca59b742",
   "metadata": {},
   "outputs": [
    {
     "name": "stdout",
     "output_type": "stream",
     "text": [
      "(2, 3, 6.5, 'pwskills') <class 'tuple'>\n"
     ]
    }
   ],
   "source": [
    "def write(*args):\n",
    "    print(args, type(args))\n",
    "    \n",
    "write(2,3,6.5,\"pwskills\")"
   ]
  },
  {
   "cell_type": "markdown",
   "id": "7a42843c-6525-4eb7-bb92-6dde0d867046",
   "metadata": {},
   "source": [
    "Function with **kwargs :\n",
    "here **kwargs takes data of dictionary data structure"
   ]
  },
  {
   "cell_type": "code",
   "execution_count": 31,
   "id": "20f383b8-2822-419f-90d8-23b7c8aa4cab",
   "metadata": {},
   "outputs": [
    {
     "name": "stdout",
     "output_type": "stream",
     "text": [
      "{'banana': 5, 'mango': 7, 'apple': 8} <class 'dict'>\n"
     ]
    }
   ],
   "source": [
    "def total_fruits(**kwargs):\n",
    "    print(kwargs, type(kwargs))\n",
    "\n",
    "total_fruits(banana=5, mango=7, apple=8)"
   ]
  },
  {
   "cell_type": "markdown",
   "id": "f66b1ed9-c257-4752-9db2-0c85bf9c318c",
   "metadata": {},
   "source": [
    "Q3. What is an iterator in python? Name the method used to initialise the iterator object and the method\n",
    "used for iteration. Use these methods to print the first five elements of the given list [2, 4, 6, 8, 10, 12, 14,\n",
    "16, 18, 20]."
   ]
  },
  {
   "cell_type": "markdown",
   "id": "02d74481-7c09-48c0-a81e-d5c86d5dcc7f",
   "metadata": {},
   "source": [
    "In Python, an iterator is an object that allows you to iterate over collections of data, such as lists, tuples,\n",
    "dictionaries, and sets."
   ]
  },
  {
   "cell_type": "markdown",
   "id": "cba0d0b1-bcd8-4542-a55f-1dfee8f27624",
   "metadata": {},
   "source": [
    "Iter() method is used to initialize the object and next() method used for iteration."
   ]
  },
  {
   "cell_type": "code",
   "execution_count": 32,
   "id": "f414c052-d6f3-40ec-afcf-2a9e77e330d8",
   "metadata": {},
   "outputs": [],
   "source": [
    "l1 = [2, 4, 6, 8, 10, 12, 14, 16, 18, 20]    "
   ]
  },
  {
   "cell_type": "code",
   "execution_count": 33,
   "id": "004c5a69-d90c-4d2a-a321-5e49ffee4783",
   "metadata": {},
   "outputs": [],
   "source": [
    "l2=iter(l1) # using iter() function converts iterable into iterator"
   ]
  },
  {
   "cell_type": "code",
   "execution_count": 34,
   "id": "8f891e22-2a4a-4faa-beb4-75ad4e17e5bd",
   "metadata": {},
   "outputs": [
    {
     "name": "stdout",
     "output_type": "stream",
     "text": [
      "2\n",
      "4\n",
      "6\n",
      "8\n",
      "10\n"
     ]
    }
   ],
   "source": [
    "for i in range(5):\n",
    "    print(next(l2))"
   ]
  },
  {
   "cell_type": "markdown",
   "id": "f0949c2b-2b9d-45f0-ab61-8f03d4edc3ad",
   "metadata": {},
   "source": [
    "Q4. What is a generator function in python? Why yield keyword is used? Give an example of a generator\n",
    "function."
   ]
  },
  {
   "cell_type": "markdown",
   "id": "70baef82-1046-42b2-a181-9161155a4f41",
   "metadata": {},
   "source": [
    "In Python, a generator function uses the def keyword, but instead of the return statement we use the yield statement.  The yield keyword is used to produce a value from the generator. "
   ]
  },
  {
   "cell_type": "code",
   "execution_count": 35,
   "id": "da4ac341-7990-419c-b877-70985f1d88d7",
   "metadata": {},
   "outputs": [
    {
     "name": "stdout",
     "output_type": "stream",
     "text": [
      "1\n",
      "2\n",
      "4\n",
      "8\n",
      "16\n",
      "32\n"
     ]
    }
   ],
   "source": [
    "#Example of Generator as power of 2\n",
    "def my_generator(n):\n",
    "    value = 0\n",
    "    while value < n:\n",
    "        yield 2**value\n",
    "        value += 1\n",
    "for value in my_generator(6):\n",
    "    print(value)"
   ]
  },
  {
   "cell_type": "markdown",
   "id": "690c68a6-4f81-47ed-8801-beafa424d3ec",
   "metadata": {},
   "source": [
    "Q5. Create a generator function for prime numbers less than 1000. Use the next() method to print the\n",
    "first 20 prime numbers."
   ]
  },
  {
   "cell_type": "code",
   "execution_count": 36,
   "id": "605b30d3-84a4-4118-a64c-8de26e13863f",
   "metadata": {},
   "outputs": [
    {
     "name": "stdout",
     "output_type": "stream",
     "text": [
      "2\n",
      "3\n",
      "5\n",
      "7\n",
      "11\n",
      "13\n",
      "17\n",
      "19\n",
      "23\n",
      "29\n",
      "31\n",
      "37\n",
      "41\n",
      "43\n",
      "47\n",
      "53\n",
      "59\n",
      "61\n",
      "67\n",
      "71\n"
     ]
    }
   ],
   "source": [
    "def prime_num():\n",
    "    for i in range(2, 1000):\n",
    "        count = 0\n",
    "        for j in range(2, i):\n",
    "            if i % j == 0:\n",
    "                count += 1\n",
    "        if count == 0:\n",
    "            yield i\n",
    "\n",
    "prime = prime_num()\n",
    "for i in range(20):\n",
    "    print(next(prime))"
   ]
  },
  {
   "cell_type": "markdown",
   "id": "f8a07a25-a949-40f0-b990-85d3c42b5815",
   "metadata": {},
   "source": [
    "Q6. Write a python program to print the first 10 Fibonacci numbers using a while loop."
   ]
  },
  {
   "cell_type": "code",
   "execution_count": 37,
   "id": "393832b6-c615-4c91-9af8-e255864a0950",
   "metadata": {},
   "outputs": [],
   "source": [
    "def fibonacci():\n",
    "    a,b=0,1\n",
    "    while True:\n",
    "        yield a\n",
    "        a,b = b, a+b"
   ]
  },
  {
   "cell_type": "code",
   "execution_count": 38,
   "id": "eecc07e9-7fac-42c2-a2f0-5bd71eff623a",
   "metadata": {},
   "outputs": [],
   "source": [
    "fib = fibonacci()"
   ]
  },
  {
   "cell_type": "code",
   "execution_count": 39,
   "id": "e497c448-13be-498b-a0fb-1a8c9ea47992",
   "metadata": {},
   "outputs": [
    {
     "name": "stdout",
     "output_type": "stream",
     "text": [
      "0\n",
      "1\n",
      "1\n",
      "2\n",
      "3\n",
      "5\n",
      "8\n",
      "13\n",
      "21\n",
      "34\n"
     ]
    }
   ],
   "source": [
    "for i in range(10):\n",
    "    print(next(fib))"
   ]
  },
  {
   "cell_type": "markdown",
   "id": "80a486e8-10da-40c1-ad23-a16b08a06b75",
   "metadata": {},
   "source": [
    "Q7. Write a List Comprehension to iterate through the given string: ‘pwskills’.\n",
    "Expected output: ['p', 'w', 's', 'k', 'i', 'l', 'l', 's']"
   ]
  },
  {
   "cell_type": "code",
   "execution_count": 40,
   "id": "672b9e57-4ae4-4507-9932-ec99d56f2f32",
   "metadata": {},
   "outputs": [],
   "source": [
    "s=\"pwskills\""
   ]
  },
  {
   "cell_type": "code",
   "execution_count": 41,
   "id": "29456365-f8ab-4fc5-9400-8e6d30845e4b",
   "metadata": {},
   "outputs": [
    {
     "data": {
      "text/plain": [
       "['p', 'w', 's', 'k', 'i', 'l', 'l', 's']"
      ]
     },
     "execution_count": 41,
     "metadata": {},
     "output_type": "execute_result"
    }
   ],
   "source": [
    "list(map(lambda x:x , s))"
   ]
  },
  {
   "cell_type": "markdown",
   "id": "22a04ad3-6582-48c8-bb14-ff7c33023be5",
   "metadata": {},
   "source": [
    "Q8. Write a python program to check whether a given number is Palindrome or not using a while loop."
   ]
  },
  {
   "cell_type": "code",
   "execution_count": 42,
   "id": "2afeeaa5-0c44-48de-9ff4-0efc2cbdecaa",
   "metadata": {},
   "outputs": [],
   "source": [
    "def Palindrome(n):\n",
    "    sum=0\n",
    "    n1=n\n",
    "    while (n>0):\n",
    "        d=n%10\n",
    "        sum = d+sum*10\n",
    "        n=n//10\n",
    "    \n",
    "    if(sum == n1):\n",
    "        print(\" Palindrome Number\")\n",
    "    else:\n",
    "        print(\"Not Palindrome Number\")"
   ]
  },
  {
   "cell_type": "code",
   "execution_count": 43,
   "id": "70ea5199-b9d7-4a2d-b835-bc81672c115d",
   "metadata": {},
   "outputs": [
    {
     "name": "stdout",
     "output_type": "stream",
     "text": [
      "Not Palindrome Number\n"
     ]
    }
   ],
   "source": [
    "Palindrome(2432)"
   ]
  },
  {
   "cell_type": "code",
   "execution_count": 44,
   "id": "49cf8a89-f348-495c-9428-aa0d1e29acde",
   "metadata": {},
   "outputs": [
    {
     "name": "stdout",
     "output_type": "stream",
     "text": [
      " Palindrome Number\n"
     ]
    }
   ],
   "source": [
    "Palindrome(23432)"
   ]
  },
  {
   "cell_type": "markdown",
   "id": "bb535a6f-fad3-4f31-b847-3e78570a18bc",
   "metadata": {},
   "source": [
    "Q9. Write a code to print odd numbers from 1 to 100 using list comprehension.\n",
    "Note: Use a list comprehension to create a list from 1 to 100 and use another List comprehension to filter\n",
    "out odd numbers."
   ]
  },
  {
   "cell_type": "code",
   "execution_count": 45,
   "id": "a57437a6-db8a-42da-a6c9-c106f8c4ff35",
   "metadata": {},
   "outputs": [],
   "source": [
    "l = list(range(1,101))\n",
    "l2 = []\n",
    "for i in l:\n",
    "    if(i % 2!= 0):\n",
    "         l2.append(i)        "
   ]
  },
  {
   "cell_type": "code",
   "execution_count": 46,
   "id": "fc2c1f25-fc3a-4ce9-89c0-e392350d3912",
   "metadata": {},
   "outputs": [
    {
     "data": {
      "text/plain": [
       "[1,\n",
       " 3,\n",
       " 5,\n",
       " 7,\n",
       " 9,\n",
       " 11,\n",
       " 13,\n",
       " 15,\n",
       " 17,\n",
       " 19,\n",
       " 21,\n",
       " 23,\n",
       " 25,\n",
       " 27,\n",
       " 29,\n",
       " 31,\n",
       " 33,\n",
       " 35,\n",
       " 37,\n",
       " 39,\n",
       " 41,\n",
       " 43,\n",
       " 45,\n",
       " 47,\n",
       " 49,\n",
       " 51,\n",
       " 53,\n",
       " 55,\n",
       " 57,\n",
       " 59,\n",
       " 61,\n",
       " 63,\n",
       " 65,\n",
       " 67,\n",
       " 69,\n",
       " 71,\n",
       " 73,\n",
       " 75,\n",
       " 77,\n",
       " 79,\n",
       " 81,\n",
       " 83,\n",
       " 85,\n",
       " 87,\n",
       " 89,\n",
       " 91,\n",
       " 93,\n",
       " 95,\n",
       " 97,\n",
       " 99]"
      ]
     },
     "execution_count": 46,
     "metadata": {},
     "output_type": "execute_result"
    }
   ],
   "source": [
    "l2"
   ]
  },
  {
   "cell_type": "code",
   "execution_count": null,
   "id": "2d221cab-213e-4529-981c-1eec6f8bf063",
   "metadata": {},
   "outputs": [],
   "source": []
  }
 ],
 "metadata": {
  "kernelspec": {
   "display_name": "Python 3 (ipykernel)",
   "language": "python",
   "name": "python3"
  },
  "language_info": {
   "codemirror_mode": {
    "name": "ipython",
    "version": 3
   },
   "file_extension": ".py",
   "mimetype": "text/x-python",
   "name": "python",
   "nbconvert_exporter": "python",
   "pygments_lexer": "ipython3",
   "version": "3.10.8"
  }
 },
 "nbformat": 4,
 "nbformat_minor": 5
}
