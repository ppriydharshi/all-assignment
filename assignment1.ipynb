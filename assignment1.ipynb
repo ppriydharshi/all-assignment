{
 "cells": [
  {
   "cell_type": "markdown",
   "id": "14084e29-b174-4abb-8b5b-d40d5afdbff0",
   "metadata": {},
   "source": [
    "Q1. Which keyword is used to create a function? Create a function to return a list of odd numbers in the\n",
    "range of 1 to 25."
   ]
  },
  {
   "cell_type": "markdown",
   "id": "b4fdbbef-c880-4147-a623-7d881a0d1983",
   "metadata": {},
   "source": [
    "ANS : def keyword is used to create a function."
   ]
  },
  {
   "cell_type": "code",
   "execution_count": 2,
   "id": "0981e959-fc1c-443f-a052-431052b735f4",
   "metadata": {},
   "outputs": [],
   "source": [
    "#function to return a list of odd numbers in the range of 1 to 25\n",
    "def odd_num():\n",
    "    l=[]\n",
    "    for i in range(1,26):\n",
    "        if(i%2 != 0):\n",
    "            l.append(i)\n",
    "    print(l)"
   ]
  },
  {
   "cell_type": "code",
   "execution_count": 3,
   "id": "40e93a9b-db60-4714-9fa8-9e880a46a637",
   "metadata": {},
   "outputs": [
    {
     "name": "stdout",
     "output_type": "stream",
     "text": [
      "[1, 3, 5, 7, 9, 11, 13, 15, 17, 19, 21, 23, 25]\n"
     ]
    }
   ],
   "source": [
    "odd_num() #output"
   ]
  },
  {
   "cell_type": "markdown",
   "id": "45f98950-8929-4639-a696-a143be229f90",
   "metadata": {},
   "source": [
    "Q2. Why *args and **kwargs is used in some functions? Create a function each for *args and **kwargs to demonstrate their use.\n",
    "\n",
    "*args and **kwargs are basically used as argument of function when we are unsure the number of arguments need to be passed in a function.\n",
    "\n",
    "Function with *args : Here *args takes data of any type and takes the value in the form of tuple"
   ]
  },
  {
   "cell_type": "code",
   "execution_count": 4,
   "id": "e3ae2636-c842-48e0-bc85-31de11251da3",
   "metadata": {},
   "outputs": [
    {
     "name": "stdout",
     "output_type": "stream",
     "text": [
      "{'banana': 5, 'mango': 7, 'apple': 8} <class 'dict'>\n"
     ]
    }
   ],
   "source": [
    "def total_fruits(**kwargs):\n",
    "    print(kwargs, type(kwargs))\n",
    "\n",
    "total_fruits(banana=5, mango=7, apple=8)"
   ]
  },
  {
   "cell_type": "markdown",
   "id": "030d6c3a-c7e2-4a1a-93cd-1f055a4a2cec",
   "metadata": {},
   "source": [
    "Q3. What is an iterator in python? Name the method used to initialise the iterator object and the method used for iteration. Use these methods to print the first five elements of the given list [2, 4, 6, 8, 10, 12, 14, 16, 18, 20]."
   ]
  },
  {
   "cell_type": "markdown",
   "id": "3939d994-d15e-4f57-9741-3545f9d75eee",
   "metadata": {},
   "source": []
  }
 ],
 "metadata": {
  "kernelspec": {
   "display_name": "Python 3 (ipykernel)",
   "language": "python",
   "name": "python3"
  },
  "language_info": {
   "codemirror_mode": {
    "name": "ipython",
    "version": 3
   },
   "file_extension": ".py",
   "mimetype": "text/x-python",
   "name": "python",
   "nbconvert_exporter": "python",
   "pygments_lexer": "ipython3",
   "version": "3.10.8"
  }
 },
 "nbformat": 4,
 "nbformat_minor": 5
}
